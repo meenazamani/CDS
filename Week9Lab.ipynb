{
 "cells": [
  {
   "cell_type": "code",
   "execution_count": 1,
   "id": "12dcad60-f0eb-4148-8ae6-b7098035a7f6",
   "metadata": {},
   "outputs": [
    {
     "name": "stdout",
     "output_type": "stream",
     "text": [
      "The number of occurrences of 3: 99740\n"
     ]
    }
   ],
   "source": [
    "import numpy as np\n",
    "\n",
    "vals = np.random.randint(1, 11, 1000000)\n",
    "\n",
    "count_of_3 = np.sum(vals == 3)\n",
    "\n",
    "print(\"The number of occurrences of 3:\", count_of_3)"
   ]
  },
  {
   "cell_type": "code",
   "execution_count": 27,
   "id": "8c379713-2156-4bae-942e-267e0d6c00b8",
   "metadata": {},
   "outputs": [
    {
     "name": "stdout",
     "output_type": "stream",
     "text": [
      "The number of occurrences of 10: 100393\n"
     ]
    }
   ],
   "source": [
    "vals = np.random.randint(1, 11, 1000000)\n",
    "\n",
    "count_of_10 = np.sum(vals == 10)\n",
    "\n",
    "print(\"The number of occurrences of 10:\", count_of_10)"
   ]
  },
  {
   "cell_type": "code",
   "execution_count": 29,
   "id": "e5f6fb98-587e-4373-9cf7-2f07bcb5ff45",
   "metadata": {},
   "outputs": [
    {
     "name": "stdout",
     "output_type": "stream",
     "text": [
      "The number of occurrences of 7: 100316\n"
     ]
    }
   ],
   "source": [
    "vals = np.random.randint(1, 11, 1000000)\n",
    "\n",
    "count_of_7 = np.sum(vals == 7)\n",
    "\n",
    "print(\"The number of occurrences of 7:\", count_of_7)"
   ]
  },
  {
   "cell_type": "code",
   "execution_count": null,
   "id": "027a53ac-e177-4301-84ba-8d3c3f687ee5",
   "metadata": {},
   "outputs": [],
   "source": []
  }
 ],
 "metadata": {
  "kernelspec": {
   "display_name": "anaconda-panel-2023.05-py310",
   "language": "python",
   "name": "conda-env-anaconda-panel-2023.05-py310-py"
  },
  "language_info": {
   "codemirror_mode": {
    "name": "ipython",
    "version": 3
   },
   "file_extension": ".py",
   "mimetype": "text/x-python",
   "name": "python",
   "nbconvert_exporter": "python",
   "pygments_lexer": "ipython3",
   "version": "3.11.5"
  }
 },
 "nbformat": 4,
 "nbformat_minor": 5
}
